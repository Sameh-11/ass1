{
  "metadata": {
    "language_info": {
      "codemirror_mode": {
        "name": "python",
        "version": 3
      },
      "file_extension": ".py",
      "mimetype": "text/x-python",
      "name": "python",
      "nbconvert_exporter": "python",
      "pygments_lexer": "ipython3",
      "version": "3.8"
    },
    "kernelspec": {
      "name": "python",
      "display_name": "Python (Pyodide)",
      "language": "python"
    }
  },
  "nbformat_minor": 4,
  "nbformat": 4,
  "cells": [
    {
      "cell_type": "markdown",
      "source": "\n# my exam\n",
      "metadata": {}
    },
    {
      "cell_type": "markdown",
      "source": "# ANSER first quastion \n",
      "metadata": {}
    },
    {
      "cell_type": "code",
      "source": "",
      "metadata": {},
      "execution_count": null,
      "outputs": []
    },
    {
      "cell_type": "markdown",
      "source": "Use for, .split(), and if to create a Statement that will print out words that start with\n's':\n",
      "metadata": {}
    },
    {
      "cell_type": "code",
      "source": "st = 'Print only the words that start with s in this sentence'\n# i split the st becouse transform from string to list  \nfor word in st.split():\n    if word[0] == 's':\n        # i mad if to search about word in lest\n        print(word)\n        # i made for loop to search in lest ",
      "metadata": {
        "trusted": true
      },
      "execution_count": 42,
      "outputs": [
        {
          "name": "stdout",
          "text": "start\ns\nsentence\n",
          "output_type": "stream"
        }
      ]
    },
    {
      "cell_type": "markdown",
      "source": "# anser of quastion 2",
      "metadata": {}
    },
    {
      "cell_type": "raw",
      "source": "Use range() to print all the even numbers from 0 to 10.\n",
      "metadata": {}
    },
    {
      "cell_type": "code",
      "source": "for x in range(0,11):\n    if x%2==0:\n       #print all even number \n        print(x,\"the number is even\")\n      ",
      "metadata": {
        "trusted": true
      },
      "execution_count": 8,
      "outputs": [
        {
          "name": "stdout",
          "text": "0 the number is even\n2 the number is even\n4 the number is even\n6 the number is even\n8 the number is even\n10 the number is even\n",
          "output_type": "stream"
        }
      ]
    },
    {
      "cell_type": "markdown",
      "source": "# anser of quastion 3",
      "metadata": {}
    },
    {
      "cell_type": "raw",
      "source": "Use a List Comprehension to create a list of all numbers between 1 and 50 that are\ndivisible by 3.",
      "metadata": {}
    },
    {
      "cell_type": "code",
      "source": "n=range(0,50)\nfor i in range(1,51,1):\n    #he need list have all numbers between 1 and 50 \n     a[n]=(\"=>\",i)\n    n=n+1\n    if (i%3==0):\n        print(i)\n             a[n]=(\"=>\",i)\n            n=n+1\n    else:\n        #he need all number bet all numbers between 1 and 50 that are divisible by 3\n        print(\"this number is not /3\")\nprint(n)        ",
      "metadata": {
        "trusted": true
      },
      "execution_count": null,
      "outputs": []
    },
    {
      "cell_type": "markdown",
      "source": "# anser of quastion 4",
      "metadata": {}
    },
    {
      "cell_type": "markdown",
      "source": "Go through the string below and if the length of a word is even print \"even!\"\n",
      "metadata": {}
    },
    {
      "cell_type": "code",
      "source": "st = 'Print every word in this sentence that has an even number of letters'.split()\nprint(st)\n#split transform from string to list \nfor i in range(len(st)):\n    if len(st[i]) %2 == 0:\n         # if  length of a word is even print the word \n        print(st[i],\" is even\")\n    else:\n        print(st[i],\"is not even\")\n        # if  length of a word is add print the word is not even",
      "metadata": {
        "trusted": true
      },
      "execution_count": 38,
      "outputs": [
        {
          "name": "stdout",
          "text": "['Print', 'every', 'word', 'in', 'this', 'sentence', 'that', 'has', 'an', 'even', 'number', 'of', 'letters']\nPrint => is not even\nevery => is not even\nword => is even\nin => is even\nthis => is even\nsentence => is even\nthat => is even\nhas => is not even\nan => is even\neven => is even\nnumber => is even\nof => is even\nletters => is not even\n",
          "output_type": "stream"
        }
      ]
    },
    {
      "cell_type": "markdown",
      "source": "# anser quastion 5 ",
      "metadata": {}
    },
    {
      "cell_type": "markdown",
      "source": "Write a program that prints the integers from 1 to 100. But for multiples of three\nprint \"Fizz\" instead of the number, and for the multiples of five print \"Buzz\". For\nnumbers which are multiples of both three and five print \"FizzBuzz\".",
      "metadata": {}
    },
    {
      "cell_type": "code",
      "source": "for i in range(1,101):\n    # range  1 to 100\n    if i%3==0:\n        #if number for multiples of three print \"Fizz\"\n        print ( \" Fizz\")\n    elif i%5==0:\n        #if number for multiples of five print \"Buzz\n        print(\" Buzz\")\n    elif i%5==0 or i%3==0:\n        #if number are   multiples of both three and five print \"FizzBuzz\".\n        print(\" FizzBuzz\")\n    else :\n        #if number are not  multiples of both three and five print\n        print(i)",
      "metadata": {
        "trusted": true
      },
      "execution_count": 40,
      "outputs": [
        {
          "name": "stdout",
          "text": "1\n2\n3   Fizz\n4\n5   Buzz\n6   Fizz\n7\n8\n9   Fizz\n10   Buzz\n11\n12   Fizz\n13\n14\n15   Fizz\n16\n17\n18   Fizz\n19\n20   Buzz\n21   Fizz\n22\n23\n24   Fizz\n25   Buzz\n26\n27   Fizz\n28\n29\n30   Fizz\n31\n32\n33   Fizz\n34\n35   Buzz\n36   Fizz\n37\n38\n39   Fizz\n40   Buzz\n41\n42   Fizz\n43\n44\n45   Fizz\n46\n47\n48   Fizz\n49\n50   Buzz\n51   Fizz\n52\n53\n54   Fizz\n55   Buzz\n56\n57   Fizz\n58\n59\n60   Fizz\n61\n62\n63   Fizz\n64\n65   Buzz\n66   Fizz\n67\n68\n69   Fizz\n70   Buzz\n71\n72   Fizz\n73\n74\n75   Fizz\n76\n77\n78   Fizz\n79\n80   Buzz\n81   Fizz\n82\n83\n84   Fizz\n85   Buzz\n86\n87   Fizz\n88\n89\n90   Fizz\n91\n92\n93   Fizz\n94\n95   Buzz\n96   Fizz\n97\n98\n99   Fizz\n100   Buzz\n",
          "output_type": "stream"
        }
      ]
    },
    {
      "cell_type": "markdown",
      "source": "# anser quastion 6 ",
      "metadata": {}
    },
    {
      "cell_type": "markdown",
      "source": "Use List Comprehension to create a list of the first letters of every word in the string\nbelow",
      "metadata": {}
    },
    {
      "cell_type": "code",
      "source": "st = 'Create a list of the first letters of every word in this string'.split()\n#split transform from string to list \nz=[st[0][0]], st[1], st[2][0], st[3][0], st[4][0], st[5][0], st[6][0], st[7][0], st[8][0], st[9][0], st[10][0], st[11][0], st[12][0]\nz\n# he first letters of every word in the string",
      "metadata": {
        "trusted": true
      },
      "execution_count": 4,
      "outputs": [
        {
          "execution_count": 4,
          "output_type": "execute_result",
          "data": {
            "text/plain": "(['C'], 'a', 'l', 'o', 't', 'f', 'l', 'o', 'e', 'w', 'i', 't', 's')"
          },
          "metadata": {}
        }
      ]
    },
    {
      "cell_type": "code",
      "source": "",
      "metadata": {},
      "execution_count": null,
      "outputs": []
    }
  ]
}